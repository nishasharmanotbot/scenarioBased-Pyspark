{
 "cells": [
  {
   "cell_type": "code",
   "execution_count": 95,
   "metadata": {},
   "outputs": [],
   "source": [
    "from pyspark.sql import SparkSession\n",
    "from pyspark.sql.functions import col,lit,when,expr,substring,lower,sum,to_date,month,year,count\n",
    "from pyspark.sql.types import IntegerType, StringType, DateType\n",
    "import re "
   ]
  },
  {
   "cell_type": "code",
   "execution_count": 2,
   "metadata": {},
   "outputs": [],
   "source": [
    "cust_Schema = ('id int , age int, gender string, income float, education string, region string, loyalty_status string, purchase_frequency string, purchase_amount float , product_category string, promotion_usage int, satisfaction_score int')"
   ]
  },
  {
   "cell_type": "code",
   "execution_count": 3,
   "metadata": {},
   "outputs": [],
   "source": [
    "spark = SparkSession.builder.appName('customer_puschases').master('local[2]').getOrCreate()"
   ]
  },
  {
   "cell_type": "code",
   "execution_count": 4,
   "metadata": {},
   "outputs": [],
   "source": [
    "custdf = spark.read.format('csv')\\\n",
    "                   .option('header','true')\\\n",
    "                   .schema(cust_Schema)\\\n",
    "                   .load(r'C:\\Users\\kkafk\\IdeaProjects\\pycode\\scenario based\\customer_data.csv')\n"
   ]
  },
  {
   "cell_type": "code",
   "execution_count": 5,
   "metadata": {},
   "outputs": [
    {
     "name": "stdout",
     "output_type": "stream",
     "text": [
      "+---+---+------+-------+----------+------+--------------+------------------+---------------+----------------+---------------+------------------+\n",
      "| id|age|gender| income| education|region|loyalty_status|purchase_frequency|purchase_amount|product_category|promotion_usage|satisfaction_score|\n",
      "+---+---+------+-------+----------+------+--------------+------------------+---------------+----------------+---------------+------------------+\n",
      "|  1| 27|  Male|40682.0|  Bachelor|  East|          Gold|          frequent|        18249.0|           Books|              0|                 6|\n",
      "|  2| 29|  Male|15317.0|   Masters|  West|       Regular|              rare|         4557.0|        Clothing|              1|                 6|\n",
      "|  3| 37|  Male|38849.0|  Bachelor|  West|        Silver|              rare|        11822.0|        Clothing|              0|                 6|\n",
      "|  4| 30|  Male|11568.0|HighSchool| South|       Regular|          frequent|         4098.0|            Food|              0|                 7|\n",
      "|  5| 31|Female|46952.0|   College| North|       Regular|        occasional|        19685.0|        Clothing|              1|                 5|\n",
      "|  6| 38|  Male| 7347.0|  Bachelor| South|        Silver|        occasional|         2822.0|     Electronics|              0|                 5|\n",
      "|  7| 32|Female| 8265.0|  Bachelor| South|        Silver|          frequent|         3293.0|        Clothing|              0|                 7|\n",
      "|  8| 24|Female|47773.0|HighSchool| North|       Regular|              rare|        21794.0|           Books|              0|                 5|\n",
      "|  9| 27|  Male|19154.0|   College|  East|       Regular|        occasional|         5819.0|        Clothing|              0|                 5|\n",
      "| 10| 28|Female|24666.0|HighSchool| North|       Regular|              rare|         8779.0|            Food|              0|                 6|\n",
      "| 11| 35|  Male|43896.0|HighSchool| South|       Regular|              rare|        16158.0|            Home|              1|                 6|\n",
      "| 12| 32|Female|40044.0|      NULL| North|        Silver|              rare|        13608.0|     Electronics|              0|                 5|\n",
      "| 13| 32|  Male| 6735.0|   College|  East|        Silver|        occasional|         2450.0|        Clothing|              1|                 5|\n",
      "| 14| 30|Female|19034.0|  Bachelor|  East|       Regular|        occasional|         5579.0|           Books|              1|                 5|\n",
      "| 15| 28|  Male|35748.0|  Bachelor| North|        Silver|              rare|        12901.0|           Books|              1|                 3|\n",
      "| 16| 38|Female|26282.0|   College|  West|        Silver|              rare|         9644.0|        Clothing|              0|                 7|\n",
      "| 17| 32|  Male|49088.0|  Bachelor| South|       Regular|              rare|        21329.0|        Clothing|              0|                 5|\n",
      "| 18| 21|Female|20163.0|   College|  West|       Regular|              rare|         7612.0|            Food|              0|                 3|\n",
      "| 19| 33|Female|10660.0|  Bachelor|  West|       Regular|              rare|         3129.0|        Clothing|              0|                 6|\n",
      "| 20| 28|  Male|40725.0|HighSchool|  East|       Regular|              rare|        12764.0|     Electronics|              1|                 6|\n",
      "+---+---+------+-------+----------+------+--------------+------------------+---------------+----------------+---------------+------------------+\n",
      "only showing top 20 rows\n",
      "\n"
     ]
    }
   ],
   "source": [
    "custdf.show()"
   ]
  },
  {
   "cell_type": "markdown",
   "metadata": {},
   "source": [
    "COL ,WHEN , LIT usecases"
   ]
  },
  {
   "cell_type": "code",
   "execution_count": 6,
   "metadata": {},
   "outputs": [
    {
     "name": "stdout",
     "output_type": "stream",
     "text": [
      "+---+---+------+-------+---------+------+--------------+------------------+---------------+----------------+---------------+------------------+\n",
      "| id|age|gender| income|education|region|loyalty_status|purchase_frequency|purchase_amount|product_category|promotion_usage|satisfaction_score|\n",
      "+---+---+------+-------+---------+------+--------------+------------------+---------------+----------------+---------------+------------------+\n",
      "| 12| 32|Female|40044.0|     NULL| North|        Silver|              rare|        13608.0|     Electronics|              0|                 5|\n",
      "| 27| 34|  Male|39287.0|     NULL| North|       Regular|        occasional|        11944.0|            Food|              0|                 6|\n",
      "| 47| 28|  Male| 6755.0|     NULL| South|       Regular|        occasional|         2394.0|     Electronics|              0|                 6|\n",
      "| 79| 31|Female|29452.0|     NULL|  West|       Regular|              rare|         9814.0|            Home|              0|                 5|\n",
      "|195| 24|  Male|30470.0|     NULL|  West|          Gold|          frequent|        11964.0|     Electronics|              1|                 6|\n",
      "|341| 33|  Male|46318.0|     NULL|  West|       Regular|        occasional|        16859.0|            Food|              0|                 6|\n",
      "+---+---+------+-------+---------+------+--------------+------------------+---------------+----------------+---------------+------------------+\n",
      "\n"
     ]
    }
   ],
   "source": [
    "custdf.select('*').filter(\"education == 'NULL'\").show()"
   ]
  },
  {
   "cell_type": "code",
   "execution_count": 7,
   "metadata": {},
   "outputs": [],
   "source": [
    "customer = custdf.distinct()\n",
    "df = customer.withColumn(\"education\", when(((col(\"income\")>1.0) & (col(\"income\")<100000.0)),lit(\"College\")).otherwise(lit(\"Bachelors\")))\n"
   ]
  },
  {
   "cell_type": "code",
   "execution_count": 8,
   "metadata": {},
   "outputs": [
    {
     "name": "stdout",
     "output_type": "stream",
     "text": [
      "+---+---+------+------+---------+------+--------------+------------------+---------------+----------------+---------------+------------------+\n",
      "| id|age|gender|income|education|region|loyalty_status|purchase_frequency|purchase_amount|product_category|promotion_usage|satisfaction_score|\n",
      "+---+---+------+------+---------+------+--------------+------------------+---------------+----------------+---------------+------------------+\n",
      "+---+---+------+------+---------+------+--------------+------------------+---------------+----------------+---------------+------------------+\n",
      "\n"
     ]
    }
   ],
   "source": [
    "df.filter(\"education == 'NULL'\").show()"
   ]
  },
  {
   "cell_type": "markdown",
   "metadata": {},
   "source": [
    "Remove certain rows based on condition"
   ]
  },
  {
   "cell_type": "code",
   "execution_count": 9,
   "metadata": {},
   "outputs": [],
   "source": [
    "df2 = df.filter(\"loyalty_status != 'Regular'\").drop()"
   ]
  },
  {
   "cell_type": "code",
   "execution_count": 10,
   "metadata": {},
   "outputs": [
    {
     "name": "stdout",
     "output_type": "stream",
     "text": [
      "+---+---+------+------+---------+------+--------------+------------------+---------------+----------------+---------------+------------------+\n",
      "| id|age|gender|income|education|region|loyalty_status|purchase_frequency|purchase_amount|product_category|promotion_usage|satisfaction_score|\n",
      "+---+---+------+------+---------+------+--------------+------------------+---------------+----------------+---------------+------------------+\n",
      "+---+---+------+------+---------+------+--------------+------------------+---------------+----------------+---------------+------------------+\n",
      "\n"
     ]
    }
   ],
   "source": [
    "df2.select(\"*\").filter(\"loyalty_status == 'Regular'\").show()"
   ]
  },
  {
   "cell_type": "markdown",
   "metadata": {},
   "source": [
    "Substrings"
   ]
  },
  {
   "cell_type": "code",
   "execution_count": 11,
   "metadata": {},
   "outputs": [
    {
     "name": "stdout",
     "output_type": "stream",
     "text": [
      "+---+---+------+-------+----------+------+--------------+------------------+---------------+----------------+---------------+------------------+---------------+\n",
      "| id|age|gender| income| education|region|loyalty_status|purchase_frequency|purchase_amount|product_category|promotion_usage|satisfaction_score|loyalty_subName|\n",
      "+---+---+------+-------+----------+------+--------------+------------------+---------------+----------------+---------------+------------------+---------------+\n",
      "|  1| 27|  Male|40682.0|  Bachelor|  East|          Gold|          frequent|        18249.0|           Books|              0|                 6|            Gol|\n",
      "|  2| 29|  Male|15317.0|   Masters|  West|       Regular|              rare|         4557.0|        Clothing|              1|                 6|            Reg|\n",
      "|  3| 37|  Male|38849.0|  Bachelor|  West|        Silver|              rare|        11822.0|        Clothing|              0|                 6|            Sil|\n",
      "|  4| 30|  Male|11568.0|HighSchool| South|       Regular|          frequent|         4098.0|            Food|              0|                 7|            Reg|\n",
      "|  5| 31|Female|46952.0|   College| North|       Regular|        occasional|        19685.0|        Clothing|              1|                 5|            Reg|\n",
      "|  6| 38|  Male| 7347.0|  Bachelor| South|        Silver|        occasional|         2822.0|     Electronics|              0|                 5|            Sil|\n",
      "|  7| 32|Female| 8265.0|  Bachelor| South|        Silver|          frequent|         3293.0|        Clothing|              0|                 7|            Sil|\n",
      "|  8| 24|Female|47773.0|HighSchool| North|       Regular|              rare|        21794.0|           Books|              0|                 5|            Reg|\n",
      "|  9| 27|  Male|19154.0|   College|  East|       Regular|        occasional|         5819.0|        Clothing|              0|                 5|            Reg|\n",
      "| 10| 28|Female|24666.0|HighSchool| North|       Regular|              rare|         8779.0|            Food|              0|                 6|            Reg|\n",
      "| 11| 35|  Male|43896.0|HighSchool| South|       Regular|              rare|        16158.0|            Home|              1|                 6|            Reg|\n",
      "| 12| 32|Female|40044.0|      NULL| North|        Silver|              rare|        13608.0|     Electronics|              0|                 5|            Sil|\n",
      "| 13| 32|  Male| 6735.0|   College|  East|        Silver|        occasional|         2450.0|        Clothing|              1|                 5|            Sil|\n",
      "| 14| 30|Female|19034.0|  Bachelor|  East|       Regular|        occasional|         5579.0|           Books|              1|                 5|            Reg|\n",
      "| 15| 28|  Male|35748.0|  Bachelor| North|        Silver|              rare|        12901.0|           Books|              1|                 3|            Sil|\n",
      "| 16| 38|Female|26282.0|   College|  West|        Silver|              rare|         9644.0|        Clothing|              0|                 7|            Sil|\n",
      "| 17| 32|  Male|49088.0|  Bachelor| South|       Regular|              rare|        21329.0|        Clothing|              0|                 5|            Reg|\n",
      "| 18| 21|Female|20163.0|   College|  West|       Regular|              rare|         7612.0|            Food|              0|                 3|            Reg|\n",
      "| 19| 33|Female|10660.0|  Bachelor|  West|       Regular|              rare|         3129.0|        Clothing|              0|                 6|            Reg|\n",
      "| 20| 28|  Male|40725.0|HighSchool|  East|       Regular|              rare|        12764.0|     Electronics|              1|                 6|            Reg|\n",
      "+---+---+------+-------+----------+------+--------------+------------------+---------------+----------------+---------------+------------------+---------------+\n",
      "only showing top 20 rows\n",
      "\n"
     ]
    }
   ],
   "source": [
    "subdf = custdf.withColumn(\"loyalty_subName\", substring(\"loyalty_status\",1,3))\n",
    "subdf.show()"
   ]
  },
  {
   "cell_type": "markdown",
   "metadata": {},
   "source": [
    "You have a sales dataset with columns transaction_id, product_id, customer_id, date, and amount."
   ]
  },
  {
   "cell_type": "code",
   "execution_count": 80,
   "metadata": {},
   "outputs": [],
   "source": [
    "salesschema = \"Row_ID int,OrderID string,OrderDate Date, ShipDate date,ShipMode string,CustomerID string,Customer_Name string,Segment string, Country string,City string,   State  string,PostalCode string,Region string,ProductID  string,Category  string,SubCategory  string,ProductName string,Sales float\""
   ]
  },
  {
   "cell_type": "code",
   "execution_count": 82,
   "metadata": {},
   "outputs": [
    {
     "name": "stdout",
     "output_type": "stream",
     "text": [
      "+------+--------------+----------+----------+--------------+----------+---------------+---------+-------------+---------------+----------+----------+------+---------------+---------------+-----------+--------------------+--------+\n",
      "|Row_ID|       OrderID| OrderDate|  ShipDate|      ShipMode|CustomerID|  Customer_Name|  Segment|      Country|           City|     State|PostalCode|Region|      ProductID|       Category|SubCategory|         ProductName|   Sales|\n",
      "+------+--------------+----------+----------+--------------+----------+---------------+---------+-------------+---------------+----------+----------+------+---------------+---------------+-----------+--------------------+--------+\n",
      "|     1|CA-2017-152156|2017-01-08|2017-01-11|  Second Class|  CG-12520|    Claire Gute| Consumer|United States|      Henderson|  Kentucky|     42420| South|FUR-BO-10001798|      Furniture|  Bookcases|Bush Somerset Col...|  261.96|\n",
      "|     2|CA-2017-152156|2017-01-08|2017-01-11|  Second Class|  CG-12520|    Claire Gute| Consumer|United States|      Henderson|  Kentucky|     42420| South|FUR-CH-10000454|      Furniture|     Chairs|Hon Deluxe Fabric...|  731.94|\n",
      "|     3|CA-2017-138688|2017-01-12|2017-01-16|  Second Class|  DV-13045|Darrin Van Huff|Corporate|United States|    Los Angeles|California|     90036|  West|OFF-LA-10000240|Office Supplies|     Labels|Self-Adhesive Add...|   14.62|\n",
      "|     4|US-2016-108966|2016-01-11|2016-01-18|Standard Class|  SO-20335| Sean O'Donnell| Consumer|United States|Fort Lauderdale|   Florida|     33311| South|FUR-TA-10000577|      Furniture|     Tables|Bretford CR4500 S...|957.5775|\n",
      "|     5|US-2016-108966|2016-01-11|2016-01-18|Standard Class|  SO-20335| Sean O'Donnell| Consumer|United States|Fort Lauderdale|   Florida|     33311| South|OFF-ST-10000760|Office Supplies|    Storage|Eldon Fold 'N Rol...|  22.368|\n",
      "+------+--------------+----------+----------+--------------+----------+---------------+---------+-------------+---------------+----------+----------+------+---------------+---------------+-----------+--------------------+--------+\n",
      "only showing top 5 rows\n",
      "\n"
     ]
    }
   ],
   "source": [
    "sales = spark.read.format('csv')\\\n",
    "                  .option(\"header\",\"true\")\\\n",
    "                  .option(\"dateFormat\",\"dd/mm/yyyy\")\\\n",
    "                  .schema(salesschema)\\\n",
    "                  .load(r'C:\\Users\\kkafk\\IdeaProjects\\pycode\\scenario based\\sales_dataset.csv')\n",
    "\n",
    "sales.show(5)"
   ]
  },
  {
   "cell_type": "code",
   "execution_count": 84,
   "metadata": {},
   "outputs": [
    {
     "name": "stdout",
     "output_type": "stream",
     "text": [
      "+-----+--------------+----------+---------------+----------+------+\n",
      "|rowid|       orderid|customerid|      productid| orderdate| sales|\n",
      "+-----+--------------+----------+---------------+----------+------+\n",
      "|    1|CA-2017-152156|  CG-12520|FUR-BO-10001798|2017-01-08|261.96|\n",
      "|    2|CA-2017-152156|  CG-12520|FUR-CH-10000454|2017-01-08|731.94|\n",
      "+-----+--------------+----------+---------------+----------+------+\n",
      "only showing top 2 rows\n",
      "\n"
     ]
    }
   ],
   "source": [
    "salesdf = sales.toDF(*[column.replace(' ','') for column in sales.columns])\n",
    "\n",
    "salesdf1 = sales.toDF(*([re.sub(\"[^a-zA-Z0-9]\",\"\",i) for i in sales.columns]))\n",
    "salesdf1 = salesdf1.toDF(*[column.lower() for column in salesdf1.columns])\n",
    "\n",
    "\n",
    "sdf = salesdf1.select(\"rowid\",\"orderid\",\"customerid\",\"productid\",\"orderdate\",\"sales\")\n",
    "                     \n",
    "sdf.show(2)"
   ]
  },
  {
   "cell_type": "code",
   "execution_count": 93,
   "metadata": {},
   "outputs": [
    {
     "name": "stdout",
     "output_type": "stream",
     "text": [
      "+-----+--------------+----------+---------------+----------+-----+\n",
      "|rowid|       orderid|customerid|      productid| orderdate|sales|\n",
      "+-----+--------------+----------+---------------+----------+-----+\n",
      "|  115|CA-2015-115259|  RC-19960|OFF-EN-10002600|2015-01-25| 4.72|\n",
      "| 1007|CA-2016-105312|  MT-17815|OFF-EN-10002600|2016-01-06| 7.08|\n",
      "| 1428|US-2016-164448|  DK-12835|OFF-EN-10002600|2016-01-31|14.75|\n",
      "| 3872|CA-2016-132486|  JF-15355|OFF-EN-10002600|2016-01-23| 11.8|\n",
      "| 5286|CA-2018-105991|  LH-17020|OFF-EN-10002600|2018-01-05|21.24|\n",
      "| 6023|CA-2015-130869|  CB-12025|OFF-EN-10002600|2015-01-17| 7.08|\n",
      "| 8296|CA-2017-166380|  EB-13750|OFF-EN-10002600|2017-01-30|26.55|\n",
      "+-----+--------------+----------+---------------+----------+-----+\n",
      "\n"
     ]
    }
   ],
   "source": [
    "sdf.select(\"*\").filter(\"productid == 'OFF-EN-10002600'\").show()"
   ]
  },
  {
   "cell_type": "code",
   "execution_count": 99,
   "metadata": {},
   "outputs": [
    {
     "name": "stdout",
     "output_type": "stream",
     "text": [
      "+----------+--------+\n",
      "|customerid|products|\n",
      "+----------+--------+\n",
      "|  WB-21850|      35|\n",
      "|  PP-18955|      34|\n",
      "|  MA-17560|      34|\n",
      "|  JL-15835|      33|\n",
      "|  CK-12205|      32|\n",
      "+----------+--------+\n",
      "\n"
     ]
    }
   ],
   "source": [
    "transactiondf = sdf.groupBy(\"productid\").agg(sum(\"sales\").alias(\"total_sales\"))\n",
    "# transactiondf.show()\n",
    "transactiondf.select(\"*\").sort(\"total_Sales\" ,ascending = False).limit(5)\n",
    "\n",
    "salesmonthly = sdf.withColumn(\"month\",month(\"orderdate\"))\n",
    "salesmonthly.groupBy(\"month\").agg(sum(\"sales\").alias(\"monthlysales\"))\n",
    "\n",
    "df = sdf.groupBy(\"customerid\").agg(count(\"productid\").alias(\"products\")).sort(\"products\",ascending = False).limit(5)\n",
    "df.show()"
   ]
  },
  {
   "cell_type": "code",
   "execution_count": null,
   "metadata": {},
   "outputs": [],
   "source": []
  }
 ],
 "metadata": {
  "kernelspec": {
   "display_name": "Python 3",
   "language": "python",
   "name": "python3"
  },
  "language_info": {
   "codemirror_mode": {
    "name": "ipython",
    "version": 3
   },
   "file_extension": ".py",
   "mimetype": "text/x-python",
   "name": "python",
   "nbconvert_exporter": "python",
   "pygments_lexer": "ipython3",
   "version": "3.12.4"
  }
 },
 "nbformat": 4,
 "nbformat_minor": 2
}
