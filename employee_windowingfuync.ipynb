{
 "cells": [
  {
   "cell_type": "code",
   "execution_count": 1,
   "metadata": {},
   "outputs": [],
   "source": [
    "from pyspark.sql import SparkSession, Window\n",
    "from pyspark.sql.functions import expr,substring,col,length,cast, regexp_replace,now,rank,dense_rank,row_number,desc,avg,max,sum,year\n",
    "from pyspark.sql.types import IntegerType\n",
    "import re"
   ]
  },
  {
   "cell_type": "code",
   "execution_count": 2,
   "metadata": {},
   "outputs": [],
   "source": [
    "spark = SparkSession.builder.appName(\"emp\").master(\"local[3]\").getOrCreate()"
   ]
  },
  {
   "cell_type": "code",
   "execution_count": 3,
   "metadata": {},
   "outputs": [],
   "source": [
    "empSchema = \"Employee_ID string,Full_Name string , Job_Title string,  Department string,  Business_Unit string, Gender string,Ethnicity string ,Age int, HireDate date , AnnualSalary string , Bonus string,    Country string,  City string ,Exit_Date date\""
   ]
  },
  {
   "cell_type": "code",
   "execution_count": 4,
   "metadata": {},
   "outputs": [
    {
     "name": "stdout",
     "output_type": "stream",
     "text": [
      "+-----------+----------------+--------------------+-----------+--------------------+------+---------+---+----------+------------+-----+-------------+---------+----------+\n",
      "|Employee_ID|       Full_Name|           Job_Title| Department|       Business_Unit|Gender|Ethnicity|Age|  HireDate|AnnualSalary|Bonus|      Country|     City| Exit_Date|\n",
      "+-----------+----------------+--------------------+-----------+--------------------+------+---------+---+----------+------------+-----+-------------+---------+----------+\n",
      "|     E02002|          Kai Le|   Controls Engineer|Engineering|       Manufacturing|  Male|    Asian| 47|2022-01-05|    $92,368 |  0% |United States| Columbus|      null|\n",
      "|     E02003|    Robert Patel|             Analyst|      Sales|           Corporate|  Male|    Asian| 58|2013-01-23|    $45,703 |  0% |United States|  Chicago|      null|\n",
      "|     E02004|      Cameron Lo|Network Administr...|         IT|Research & Develo...|  Male|    Asian| 34|2019-01-24|    $83,576 |  0% |        China| Shanghai|      null|\n",
      "|     E02005| Harper Castillo|IT Systems Architect|         IT|           Corporate|Female|   Latino| 39|2018-01-07|    $98,062 |  0% |United States|  Seattle|      null|\n",
      "|     E02006|Harper Dominguez|            Director|Engineering|           Corporate|Female|   Latino| 42|2005-01-18|   $175,391 | 24% |United States|   Austin|      null|\n",
      "|     E02007|         Ezra Vu|Network Administr...|         IT|       Manufacturing|  Male|    Asian| 62|2004-01-22|    $66,227 |  0% |United States|  Phoenix|2014-01-14|\n",
      "|     E02008|         Jade Hu|         Sr. Analyst| Accounting|  Specialty Products|Female|    Asian| 58|2009-01-27|    $89,744 |  0% |        China|Chongqing|      null|\n",
      "|     E02009|     Miles Chang|          Analyst II|    Finance|           Corporate|  Male|    Asian| 62|1999-01-19|    $69,674 |  0% |        China|  Chengdu|      null|\n",
      "|     E02010|   Gianna Holmes|System Administra...|         IT|       Manufacturing|Female|Caucasian| 38|2011-01-09|    $97,630 |  0% |United States|  Seattle|      null|\n",
      "|     E02011|  Jameson Thomas|             Manager|    Finance|  Specialty Products|  Male|Caucasian| 52|2015-01-05|   $105,879 | 10% |United States|    Miami|      null|\n",
      "|     E02012|    Jameson Pena|     Systems Analyst|         IT|       Manufacturing|  Male|   Latino| 49|2003-01-12|    $40,499 |  0% |United States|    Miami|      null|\n",
      "|     E02013|        Bella Wu|         Sr. Analyst|    Finance|  Specialty Products|Female|    Asian| 63|2014-01-03|    $71,418 |  0% |United States|  Phoenix|      null|\n",
      "|     E02014|       Jose Wong|            Director|         IT|       Manufacturing|  Male|    Asian| 45|2017-01-15|   $150,558 | 23% |        China|Chongqing|      null|\n",
      "|     E02015|Lucas Richardson|             Manager|  Marketing|           Corporate|  Male|Caucasian| 36|2018-01-22|   $118,912 |  8% |United States|    Miami|      null|\n",
      "|     E02016|     Jacob Moore|         Sr. Manager|  Marketing|           Corporate|  Male|    Black| 42|2021-01-24|   $131,422 | 15% |United States|  Phoenix|      null|\n",
      "|     E02017|         Luna Lu|IT Systems Architect|         IT|           Corporate|Female|    Asian| 62|1997-01-26|    $64,208 |  0% |United States|    Miami|      null|\n",
      "|     E02018|      Bella Tran|      Vice President|Engineering|  Specialty Products|Female|    Asian| 45|2010-01-05|   $254,486 | 33% |        China|  Chengdu|      null|\n",
      "|     E02019|        Ivy Chau|             Analyst|      Sales|  Specialty Products|Female|    Asian| 61|2019-01-03|    $54,811 |  0% |        China|Chongqing|      null|\n",
      "|     E02020|    Jordan Kumar|Service Desk Analyst|         IT|  Specialty Products|  Male|    Asian| 29|2017-01-11|    $95,729 |  0% |United States|  Seattle|      null|\n",
      "|     E02021|Sophia Gutierrez|             Manager| Accounting|  Specialty Products|Female|   Latino| 63|2009-01-08|   $102,649 |  6% |United States|   Austin|      null|\n",
      "+-----------+----------------+--------------------+-----------+--------------------+------+---------+---+----------+------------+-----+-------------+---------+----------+\n",
      "only showing top 20 rows\n",
      "\n"
     ]
    }
   ],
   "source": [
    "employee = spark.read.format(\"csv\")\\\n",
    "                     .option(\"header\",\"true\")\\\n",
    "                     .option(\"dateFormat\",\"m/d/yyyy\")\\\n",
    "                     .schema(empSchema)\\\n",
    "                     .load(r'C:\\Users\\kkafk\\IdeaProjects\\pycode\\scenario based\\EmployeeData_new.csv')\n",
    "\n",
    "employee.show()"
   ]
  },
  {
   "cell_type": "code",
   "execution_count": 5,
   "metadata": {},
   "outputs": [
    {
     "name": "stdout",
     "output_type": "stream",
     "text": [
      "+-----------+----------------+---------+----------+--------------------+------+---------+---+----------+------------+-----+-------------+---------+---------+------+\n",
      "|Employee_ID|       Full_Name|Job_Title|Department|       Business_Unit|Gender|Ethnicity|Age|  HireDate|AnnualSalary|Bonus|      Country|     City|Exit_Date|salary|\n",
      "+-----------+----------------+---------+----------+--------------------+------+---------+---+----------+------------+-----+-------------+---------+---------+------+\n",
      "|     E02096|      Gianna Lim|  Analyst|Accounting|Research & Develo...|Female|    Asian| 46|2006-01-01|    $42,532 |  0% |        China|Chongqing|     null| 42532|\n",
      "|     E02144|Raelynn Espinoza|  Analyst|Accounting|           Corporate|Female|   Latino| 46|2002-01-12|    $44,411 |  0% |       Brazil|   Manaus|     null| 44411|\n",
      "|     E02440|     Jaxson Shah|  Analyst|Accounting|           Corporate|  Male|    Asian| 29|2018-01-25|    $44,520 |  0% |United States|  Chicago|     null| 44520|\n",
      "+-----------+----------------+---------+----------+--------------------+------+---------+---+----------+------------+-----+-------------+---------+---------+------+\n",
      "only showing top 3 rows\n",
      "\n"
     ]
    }
   ],
   "source": [
    "emp = employee.select(\"*\")\\\n",
    "        .withColumn(\"salary\", expr('substring(AnnualSalary,2,length(AnnualSalary)-1)'))\n",
    "\n",
    "emp2 = employee.select(\"*\")\\\n",
    "               .withColumn(\"salary\",substring(\"AnnualSalary\",2,100))\n",
    "\n",
    "emp3 = employee.select(\"*\")\\\n",
    "                .withColumn(\"salary\", regexp_replace(col(\"AnnualSalary\"),\"[$,]\",\"\"))\\\n",
    "                .withColumn(\"salary\",col(\"salary\").cast(IntegerType()))\\\n",
    "                .sort(\"department\",\"salary\")\n",
    "\n",
    "\n",
    "emp3.show(3)"
   ]
  },
  {
   "cell_type": "code",
   "execution_count": 6,
   "metadata": {},
   "outputs": [
    {
     "name": "stdout",
     "output_type": "stream",
     "text": [
      "root\n",
      " |-- Employee_ID: string (nullable = true)\n",
      " |-- Full_Name: string (nullable = true)\n",
      " |-- Job_Title: string (nullable = true)\n",
      " |-- Department: string (nullable = true)\n",
      " |-- Business_Unit: string (nullable = true)\n",
      " |-- Gender: string (nullable = true)\n",
      " |-- Ethnicity: string (nullable = true)\n",
      " |-- Age: integer (nullable = true)\n",
      " |-- HireDate: date (nullable = true)\n",
      " |-- AnnualSalary: string (nullable = true)\n",
      " |-- Bonus: string (nullable = true)\n",
      " |-- Country: string (nullable = true)\n",
      " |-- City: string (nullable = true)\n",
      " |-- Exit_Date: date (nullable = true)\n",
      " |-- salary: integer (nullable = true)\n",
      " |-- Rank: integer (nullable = false)\n",
      "\n"
     ]
    }
   ],
   "source": [
    "mywin1 = Window.partitionBy(\"department\").orderBy(desc(\"salary\"))\n",
    "\n",
    "df = emp3.withColumn(\"Rank\",rank().over(mywin1))\\\n",
    "         .filter(col(\"Rank\")<=3)\n",
    "df.printSchema()"
   ]
  },
  {
   "cell_type": "code",
   "execution_count": 7,
   "metadata": {},
   "outputs": [
    {
     "name": "stdout",
     "output_type": "stream",
     "text": [
      "+-----------+--------------------+--------------+---------------+--------------------+------+---------+---+----------+------------+-----+-------------+--------------+----------+------+----+--------------+\n",
      "|Employee_ID|           Full_Name|     Job_Title|     Department|       Business_Unit|Gender|Ethnicity|Age|  HireDate|AnnualSalary|Bonus|      Country|          City| Exit_Date|salary|Rank|cumulative_sum|\n",
      "+-----------+--------------------+--------------+---------------+--------------------+------+---------+---+----------+------------+-----+-------------+--------------+----------+------+----+--------------+\n",
      "|     E02675|          Everett Le|Vice President|     Accounting|           Corporate|  Male|    Asian| 45|2014-01-07|   $250,639 | 34% |        China|      Shanghai|      null|250639|   3|        250639|\n",
      "|     E02171|           Mia Jiang|Vice President|     Accounting|       Manufacturing|Female|    Asian| 42|2015-01-19|   $255,892 | 38% |United States|         Miami|      null|255892|   2|        506531|\n",
      "|     E02756|       Roman Mendoza|Vice President|     Accounting|  Specialty Products|  Male|   Latino| 54|1994-01-04|   $257,489 | 34% |       Brazil|Rio de Janeiro|      null|257489|   1|        764020|\n",
      "|     E02018|          Bella Tran|Vice President|    Engineering|  Specialty Products|Female|    Asian| 45|2010-01-05|   $254,486 | 33% |        China|       Chengdu|      null|254486|   3|        254486|\n",
      "|     E02333|     Christopher Luu|Vice President|    Engineering|Research & Develo...|  Male|    Asian| 61|2005-01-27|   $258,700 | 32% |United States|        Austin|      null|258700|   2|        513186|\n",
      "|     E02557|       Robert Rogers|Vice President|    Engineering|       Manufacturing|  Male|Caucasian| 53|2011-01-26|   $258,734 | 34% |United States|       Seattle|      null|258734|   1|        771920|\n",
      "|     E02175|Christopher Robinson|Vice President|        Finance|  Specialty Products|  Male|Caucasian| 35|2016-01-11|   $254,287 | 31% |United States|        Austin|2022-01-17|254287|   3|        254287|\n",
      "|     E02032|      Ruby Alexander|Vice President|        Finance|Research & Develo...|Female|Caucasian| 59|2001-01-13|   $255,610 | 36% |United States|       Phoenix|      null|255610|   2|        509897|\n",
      "|     E02840|            Mia Vang|Vice President|        Finance|           Corporate|Female|    Asian| 38|2014-01-19|   $256,509 | 39% |        China|      Shanghai|2019-01-28|256509|   1|        766406|\n",
      "|     E02509|          Ellie Yoon|Vice President|Human Resources|  Specialty Products|Female|    Asian| 44|2006-01-11|   $242,004 | 38% |        China|     Chongqing|      null|242004|   3|        242004|\n",
      "|     E02360|      Claire Vazquez|Vice President|Human Resources|           Corporate|Female|   Latino| 44|2004-01-12|   $246,538 | 35% |United States|         Miami|      null|246538|   2|        488542|\n",
      "|     E02949|       Kinsley Huynh|Vice President|Human Resources|  Specialty Products|Female|    Asian| 53|2009-01-22|   $258,722 | 36% |United States|       Phoenix|      null|258722|   1|        747264|\n",
      "|     E02310|      Charlotte Tran|Vice President|             IT|           Corporate|Female|    Asian| 64|2017-01-11|   $253,330 | 39% |United States|        Austin|      null|253330|   3|        253330|\n",
      "|     E02765|     Carter Sandoval|Vice President|             IT|       Manufacturing|  Male|   Latino| 36|2021-01-11|   $253,741 | 34% |       Brazil|Rio de Janeiro|      null|253741|   2|        507071|\n",
      "|     E02593|        Samantha Zhu|Vice President|             IT|  Specialty Products|Female|    Asian| 55|2001-01-27|   $256,592 | 30% |        China|       Beijing|2010-01-19|256592|   1|        763663|\n",
      "|     E02907|      Ariana Griffin|Vice President|      Marketing|           Corporate|Female|Caucasian| 32|2015-01-04|   $241,722 | 38% |United States|       Chicago|      null|241722|   3|        241722|\n",
      "|     E02579|   Harper Washington|Vice President|      Marketing|       Manufacturing|Female|Caucasian| 48|1999-01-24|   $256,084 | 34% |United States|      Columbus|      null|256084|   2|        497806|\n",
      "|     E02318|          Carter Luu|Vice President|      Marketing|           Corporate|  Male|    Asian| 25|2022-01-20|   $257,296 | 35% |United States|        Austin|      null|257296|   1|        755102|\n",
      "|     E02187|        Penelope Mai|Vice President|          Sales|           Corporate|Female|    Asian| 43|2004-01-02|   $252,938 | 35% |United States|        Austin|      null|252938|   3|        252938|\n",
      "|     E02184|       Ariana Sharma|Vice President|          Sales|Research & Develo...|Female|    Asian| 45|2014-01-24|   $257,725 | 34% |United States|       Seattle|2022-01-29|257725|   2|        510663|\n",
      "+-----------+--------------------+--------------+---------------+--------------------+------+---------+---+----------+------------+-----+-------------+--------------+----------+------+----+--------------+\n",
      "only showing top 20 rows\n",
      "\n"
     ]
    }
   ],
   "source": [
    "winSepc = Window.partitionBy(\"department\").orderBy(\"salary\").rangeBetween(Window.unboundedPreceding,0)\n",
    "\n",
    "df2 = df.withColumn(\"cumulative_sum\",sum(col(\"salary\")).over(winSepc))\n",
    "df2.show()"
   ]
  },
  {
   "cell_type": "code",
   "execution_count": 8,
   "metadata": {},
   "outputs": [
    {
     "name": "stdout",
     "output_type": "stream",
     "text": [
      "[(1, 'Alice', 'Engineering', 70000, '2022-01-15'), (1, 'Alice', 'Engineering', 68000, '2021-01-15'), (1, 'Alice', 'Engineering', 66000, '2020-01-15'), (2, 'Bob', 'HR', 50000, '2022-01-15'), (2, 'Bob', 'HR', 48000, '2021-01-15'), (2, 'Bob', 'HR', 46000, '2020-01-15'), (3, 'Charlie', 'Marketing', 60000, '2022-01-15'), (3, 'Charlie', 'Marketing', 58000, '2021-01-15'), (3, 'Charlie', 'Marketing', 56000, '2020-01-15')]\n"
     ]
    },
    {
     "data": {
      "text/plain": [
       "DataFrame[id: bigint, name: string, dept: string, salary: bigint, joining_date: date, Year: int]"
      ]
     },
     "execution_count": 8,
     "metadata": {},
     "output_type": "execute_result"
    }
   ],
   "source": [
    "data = [\n",
    "    (1, \"Alice\", \"Engineering\", 70000, \"2022-01-15\"),\n",
    "    (1, \"Alice\", \"Engineering\", 68000, \"2021-01-15\"),\n",
    "    (1, \"Alice\", \"Engineering\", 66000, \"2020-01-15\"),\n",
    "    (2, \"Bob\", \"HR\", 50000, \"2022-01-15\"),\n",
    "    (2, \"Bob\", \"HR\", 48000, \"2021-01-15\"),\n",
    "    (2, \"Bob\", \"HR\", 46000, \"2020-01-15\"),\n",
    "    (3, \"Charlie\", \"Marketing\", 60000, \"2022-01-15\"),\n",
    "    (3, \"Charlie\", \"Marketing\", 58000, \"2021-01-15\"),\n",
    "    (3, \"Charlie\", \"Marketing\", 56000, \"2020-01-15\"),\n",
    "]\n",
    "\n",
    "\n",
    "print(data)\n",
    "\n",
    "df = spark.createDataFrame(data)\n",
    "\n",
    "df = df.withColumnRenamed('_1',\"id\")\\\n",
    "       .withColumnRenamed('_2',\"name\")\\\n",
    "       .withColumnRenamed('_3',\"dept\")\\\n",
    "       .withColumnRenamed('_4',\"salary\")\\\n",
    "       .withColumn(\"joining_date\",col('_5').cast(\"date\"))\\\n",
    "       .withColumn(\"Year\",year(col('joining_date')))\\\n",
    "       .drop('_5')\n",
    "df"
   ]
  },
  {
   "cell_type": "code",
   "execution_count": 9,
   "metadata": {},
   "outputs": [],
   "source": [
    "df_filter = df.select(\"*\")\\\n",
    "              .filter(year(now())-3 <= col('Year'))"
   ]
  },
  {
   "cell_type": "code",
   "execution_count": 10,
   "metadata": {},
   "outputs": [
    {
     "data": {
      "text/plain": [
       "DataFrame[id: bigint, name: string, dept: string, salary: bigint, joining_date: date, Year: int, avg: double]"
      ]
     },
     "execution_count": 10,
     "metadata": {},
     "output_type": "execute_result"
    }
   ],
   "source": [
    "windowspec = Window.partitionBy('dept').orderBy(\"joining_date\").rangeBetween(Window.unboundedPreceding,0)\n",
    "\n",
    "avgsalary = df_filter.withColumn(\"avg\",avg('salary').over(windowspec))\n",
    "\n",
    "avgsalary"
   ]
  },
  {
   "cell_type": "code",
   "execution_count": null,
   "metadata": {},
   "outputs": [],
   "source": []
  }
 ],
 "metadata": {
  "kernelspec": {
   "display_name": "Python 3",
   "language": "python",
   "name": "python3"
  },
  "language_info": {
   "codemirror_mode": {
    "name": "ipython",
    "version": 3
   },
   "file_extension": ".py",
   "mimetype": "text/x-python",
   "name": "python",
   "nbconvert_exporter": "python",
   "pygments_lexer": "ipython3",
   "version": "3.12.4"
  }
 },
 "nbformat": 4,
 "nbformat_minor": 2
}
